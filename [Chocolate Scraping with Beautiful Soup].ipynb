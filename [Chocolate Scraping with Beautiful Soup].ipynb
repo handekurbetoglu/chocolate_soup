{
 "cells": [
  {
   "cell_type": "markdown",
   "metadata": {},
   "source": [
    "# Chocolate Scraping with Beautiful Soup"
   ]
  },
  {
   "cell_type": "markdown",
   "metadata": {},
   "source": [
    "The data is displayed in a table, instead of in a `csv` or `json`. Thankfully, we have the power of BeautifulSoup that will help us transform this webpage into a DataFrame that we can manipulate and analyze.\n",
    "\n",
    "The rating scale is from 1-5, as described in <a href=\"http://flavorsofcacao.com/review_guide.html\">this review guide</a>. A `1` is \"unpleasant\" chocolate, while a `5` is a bar that transcends \"beyond the ordinary limits\".\n",
    "\n",
    "Some questions we thought about when we found this dataset were:\n",
    " - Where are the best cocao beans grown?\n",
    " - Which countries produce the highest-rated bars?\n",
    " - What's the relationship between cocao solids percentage and rating?\n",
    " \n",
    "Can we find a way to answer these questions, or uncover more questions, using BeautifulSoup and Pandas?"
   ]
  },
  {
   "cell_type": "markdown",
   "metadata": {},
   "source": [
    "## Make Some Chocolate Soup"
   ]
  },
  {
   "cell_type": "markdown",
   "metadata": {},
   "source": [
    "https://content.codecademy.com/courses/beautifulsoup/cacao/index.html"
   ]
  },
  {
   "cell_type": "markdown",
   "metadata": {},
   "source": [
   ]
  },
  {
   "cell_type": "markdown",
   "metadata": {},
   "source": [
   ]
  },
  {
   "cell_type": "markdown",
   "metadata": {},
   "source": [
    "1. Let's make a request to this site to get the raw HTML, which we can later turn into a BeautifulSoup object.\n",
    "\n",
    "   The URL is\n",
    "\n",
    "```\n",
    "```\n",
    "   "
   ]
  },
  {
   "cell_type": "code",
   "execution_count": 1,
   "metadata": {},
   "outputs": [],
   "source": [
    "import seaborn\n",
    "from bs4 import BeautifulSoup\n",
    "import requests\n",
    "import pandas as pd\n",
    "import matplotlib.pyplot as plt\n",
    "import numpy as np\n",
    "\n",
    "webpage_response = requests.get('https://content.codecademy.com/courses/beautifulsoup/cacao/index.html')\n",
    "webpage = webpage_response.content\n"
   ]
  },
  {
   "cell_type": "markdown",
   "metadata": {},
   "source": [
    "3. Creating a BeautifulSoup object called `soup` to traverse this HTML.\n",
    "\n"
   ]
  },
  {
   "cell_type": "code",
   "execution_count": 2,
   "metadata": {},
   "outputs": [],
   "source": [
    "soup = BeautifulSoup(webpage, 'html.parser')"
   ]
  },
  {
   "cell_type": "markdown",
   "metadata": {},
   "source": [
    "## How are ratings distributed?"
   ]
  },
  {
   "cell_type": "markdown",
   "metadata": {},
   "source": [
    "4. How many terrible chocolate bars are out there? And how many earned a perfect 5? Let's make a histogram of this data.\n",
    "\n",
    "   The first thing to do is to put all of the ratings into a list.\n",
    "   \n"
   ]
  },
  {
   "cell_type": "code",
   "execution_count": 3,
   "metadata": {},
   "outputs": [],
   "source": [
    "ratings = []"
   ]
  },
  {
   "cell_type": "code",
   "execution_count": 4,
   "metadata": {},
   "outputs": [],
   "source": [
    "rating_tags = soup.find_all(attrs={'class':\"Rating\"})\n"
   ]
  },
  {
   "cell_type": "code",
   "execution_count": 5,
   "metadata": {},
   "outputs": [],
   "source": [
    "for rating in rating_tags[1:]:\n",
    "    rating_text = rating.get_text()\n",
    "    rating_float = float(rating_text)\n",
    "    ratings.append(rating_float)\n",
    "\n"
   ]
  },
  {
   "cell_type": "markdown",
   "metadata": {},
   "source": [
    "5. Using Matplotlib, creating a histogram of the ratings values:\n",
    "\n"
   ]
  },
  {
   "cell_type": "code",
   "execution_count": 6,
   "metadata": {},
   "outputs": [
    {
     "data": {
      "image/png": "[encoded data removed]",
      "text/plain": [
       "<Figure size 432x288 with 1 Axes>"
      ]
     },
     "metadata": {
      "needs_background": "light"
     },
     "output_type": "display_data"
    }
   ],
   "source": [
    "plt.hist(ratings)\n",
    "plt.show()"
   ]
  },
  {
   "cell_type": "markdown",
   "metadata": {},
   "source": [
    "## Which chocolatier makes the best chocolate?"
   ]
  },
  {
   "cell_type": "markdown",
   "metadata": {},
   "source": [
    "6. We want to now find the 10 most highly rated chocolatiers. One way to do this is to make a DataFrame that has the chocolate companies in one column, and the ratings in another. Then, we can do a `groupby` to find the ones with the highest average rating.\n",
    "\n",
    "   First, let's find all tags on the webpage that contain the company names."
   ]
  },
  {
   "cell_type": "code",
   "execution_count": 7,
   "metadata": {},
   "outputs": [],
   "source": [
    "\n",
    "company_tags = soup.find_all(attrs={'class': 'Company'})\n",
    "\n"
   ]
  },
  {
   "cell_type": "markdown",
   "metadata": {},
   "source": [
    "7. Just like we did with ratings, we now want to make an empty list to hold company names."
   ]
  },
  {
   "cell_type": "code",
   "execution_count": 8,
   "metadata": {},
   "outputs": [],
   "source": [
    "companies = []\n"
   ]
  },
  {
   "cell_type": "code",
   "execution_count": 9,
   "metadata": {},
   "outputs": [],
   "source": [
    "\n",
    "for company in company_tags[1:]:\n",
    "    company_text = company.get_text()\n",
    "    companies.append(company_text)\n",
    "\n"
   ]
  },
  {
   "cell_type": "markdown",
   "metadata": {},
   "source": [
    "8. Creating a DataFrame with a column \"Company\" corresponding to  companies list, and a column \"Ratings\" corresponding to ratings list."
   ]
  },
  {
   "cell_type": "code",
   "execution_count": 10,
   "metadata": {},
   "outputs": [
    {
     "name": "stdout",
     "output_type": "stream",
     "text": [
      "       Company  Ratings\n",
      "0     A. Morin     3.75\n",
      "1     A. Morin     2.75\n",
      "2     A. Morin     3.00\n",
      "3     A. Morin     3.50\n",
      "4     A. Morin     3.50\n",
      "...        ...      ...\n",
      "1790    Zotter     3.75\n",
      "1791    Zotter     3.00\n",
      "1792    Zotter     3.50\n",
      "1793    Zotter     3.25\n",
      "1794    Zotter     3.00\n",
      "\n",
      "[1795 rows x 2 columns]\n"
     ]
    }
   ],
   "source": [
    "columns_rating_company = {\"Company\": companies, \"Ratings\": ratings}\n",
    "rating_company_df = pd.DataFrame.from_dict(columns_rating_company)\n",
    "print(rating_company_df)"
   ]
  },
  {
   "cell_type": "markdown",
   "metadata": {},
   "source": [
    "9. Using `.grouby` to group DataFrame by Company and taking the average of the grouped ratings.\n",
    "\n",
    "    Then, we will get the 10 highest rated chocolate companies. "
   ]
  },
  {
   "cell_type": "code",
   "execution_count": 11,
   "metadata": {},
   "outputs": [
    {
     "name": "stdout",
     "output_type": "stream",
     "text": [
      "Company\n",
      "Tobago Estate (Pralus)                  4.000000\n",
      "Heirloom Cacao Preservation (Zokoko)    3.875000\n",
      "Ocelot                                  3.875000\n",
      "Amedei                                  3.846154\n",
      "Matale                                  3.812500\n",
      "Patric                                  3.791667\n",
      "Idilio (Felchlin)                       3.775000\n",
      "Acalli                                  3.750000\n",
      "Chocola'te                              3.750000\n",
      "Christopher Morel (Felchlin)            3.750000\n",
      "Name: Ratings, dtype: float64\n"
     ]
    }
   ],
   "source": [
    "company_mean_ratings = rating_company_df.groupby(\"Company\").Ratings.mean()\n",
    "ten_best_company = company_mean_ratings.nlargest(10)\n",
    "print(ten_best_company)"
   ]
  },
  {
   "cell_type": "markdown",
   "metadata": {},
   "source": [
    "## Is more cacao better?"
   ]
  },
  {
   "cell_type": "markdown",
   "metadata": {},
   "source": [
    "10. We want to see if the chocolate experts tend to rate chocolate bars with higher levels of cacoa to be better than those with lower levels of cacoa.\n",
    "    "
   ]
  },
  {
   "cell_type": "code",
   "execution_count": 12,
   "metadata": {},
   "outputs": [],
   "source": [
    "cacao_percents = []\n",
    "cacao_percent_tags = soup.select('.CocoaPercent')\n",
    "\n",
    "for cacao in cacao_percent_tags[1:]:\n",
    "    cacao_text = float(cacao.get_text().strip('%'))\n",
    "    cacao_percents.append(cacao_text)\n",
    "    \n"
   ]
  },
  {
   "cell_type": "code",
   "execution_count": 13,
   "metadata": {},
   "outputs": [
    {
     "name": "stdout",
     "output_type": "stream",
     "text": [
      "       Company  Ratings  CocoaPercentage\n",
      "0     A. Morin     3.75             63.0\n",
      "1     A. Morin     2.75             70.0\n",
      "2     A. Morin     3.00             70.0\n",
      "3     A. Morin     3.50             70.0\n",
      "4     A. Morin     3.50             70.0\n",
      "...        ...      ...              ...\n",
      "1790    Zotter     3.75             70.0\n",
      "1791    Zotter     3.00             65.0\n",
      "1792    Zotter     3.50             65.0\n",
      "1793    Zotter     3.25             62.0\n",
      "1794    Zotter     3.00             65.0\n",
      "\n",
      "[1795 rows x 3 columns]\n"
     ]
    }
   ],
   "source": [
    "company_columns = {'Company': companies, 'Ratings': ratings, 'CocoaPercentage': cacao_percents}\n",
    "company_ratings_df = pd.DataFrame.from_dict(company_columns)\n",
    "print(company_ratings_df)"
   ]
  },
  {
   "cell_type": "markdown",
   "metadata": {},
   "source": [
    "11. Making a scatterplot of ratings (`your_df.Rating`) vs percentage of cocoa (`your_df.CocoaPercentage`).\n"
   ]
  },
  {
   "cell_type": "markdown",
   "metadata": {},
   "source": [
    "17. Is there any correlation here? We can use some numpy commands to draw a line of best-fit over the scatterplot.\n",
    "\n",
    "    Copy this code and paste it after you create the scatterplot, but before you call `.show()`:\n",
    "    \n",
    "```py\n",
    "z = np.polyfit(df.CocoaPercentage, df.Rating, 1)\n",
    "line_function = np.poly1d(z)\n",
    "plt.plot(df.CocoaPercentage, line_function(df.CocoaPercentage), \"r-\")\n",
    "```"
   ]
  },
  {
   "cell_type": "code",
   "execution_count": 14,
   "metadata": {},
   "outputs": [
    {
     "data": {
      "image/png": "[encoded data removed]",
      "text/plain": [
       "<Figure size 432x288 with 1 Axes>"
      ]
     },
     "metadata": {
      "needs_background": "light"
     },
     "output_type": "display_data"
    }
   ],
   "source": [
    "plt.clf()\n",
    "\n",
    "plt.scatter(company_ratings_df.CocoaPercentage, company_ratings_df.Ratings)\n",
    "z = np.polyfit(company_ratings_df.CocoaPercentage, company_ratings_df.Ratings, 1)\n",
    "line_function = np.poly1d(z)\n",
    "plt.plot(company_ratings_df.CocoaPercentage, line_function(company_ratings_df.CocoaPercentage), \"r-\")\n",
    "plt.show()"
   ]
  },
  {
   "cell_type": "markdown",
   "metadata": {},
   "source": [
    "12. It looks like there is no significant evidence that cocoa percentage has an important effect on ratings."
   ]
  },
  {
   "cell_type": "markdown",
   "metadata": {},
   "source": [
    "13. Let's find where the best coffee-companies located. First, we find all countries from the page."
   ]
  },
  {
   "cell_type": "code",
   "execution_count": 15,
   "metadata": {},
   "outputs": [],
   "source": [
    "countries = []\n",
    "country_tags = soup.find_all(attrs = {'class': 'CompanyLocation'})\n",
    "\n",
    "for country in country_tags[1:]:\n",
    "    country_text = country.get_text()\n",
    "    countries.append(country_text)\n",
    "    \n"
   ]
  },
  {
   "cell_type": "markdown",
   "metadata": {},
   "source": [
    "14. Next, we create a dataframe made of countries and ratings.\n",
    "Let's find the average rating of companies in a country.\n",
    "Below, we show the the top 20 countries that have the top average ratings."
   ]
  },
  {
   "cell_type": "code",
   "execution_count": 16,
   "metadata": {},
   "outputs": [
    {
     "name": "stdout",
     "output_type": "stream",
     "text": [
      "Company Location\n",
      "Chile          3.750000\n",
      "Amsterdam      3.500000\n",
      "Netherlands    3.500000\n",
      "Philippines    3.500000\n",
      "Iceland        3.416667\n",
      "Vietnam        3.409091\n",
      "Brazil         3.397059\n",
      "Poland         3.375000\n",
      "Australia      3.357143\n",
      "Guatemala      3.350000\n",
      "Switzerland    3.342105\n",
      "Singapore      3.333333\n",
      "Italy          3.325397\n",
      "Scotland       3.325000\n",
      "Canada         3.324000\n",
      "Argentina      3.305556\n",
      "Denmark        3.283333\n",
      "Spain          3.270000\n",
      "France         3.251603\n",
      "Bolivia        3.250000\n",
      "Name: Ratings, dtype: float64\n"
     ]
    }
   ],
   "source": [
    "columns_countries = {\"Company Location\": countries, \"Ratings\": ratings, \"Company\": companies}\n",
    "country_ratings_df = pd.DataFrame.from_dict(columns_countries)\n",
    "country_means = country_ratings_df.groupby('Company Location').Ratings.mean()\n",
    "print(country_means.nlargest(20))"
   ]
  },
  {
   "cell_type": "markdown",
   "metadata": {},
   "source": [
    "15. Where are the best 20 top rated coffee companies located in?"
   ]
  },
  {
   "cell_type": "code",
   "execution_count": 17,
   "metadata": {},
   "outputs": [
    {
     "data": {
      "text/html": [
       "<div>\n",
       "<style scoped>\n",
       "    .dataframe tbody tr th:only-of-type {\n",
       "        vertical-align: middle;\n",
       "    }\n",
       "\n",
       "    .dataframe tbody tr th {\n",
       "        vertical-align: top;\n",
       "    }\n",
       "\n",
       "    .dataframe thead th {\n",
       "        text-align: right;\n",
       "    }\n",
       "</style>\n",
       "<table border=\"1\" class=\"dataframe\">\n",
       "  <thead>\n",
       "    <tr style=\"text-align: right;\">\n",
       "      <th></th>\n",
       "      <th>Company Location</th>\n",
       "      <th>Ratings</th>\n",
       "      <th>Company</th>\n",
       "    </tr>\n",
       "  </thead>\n",
       "  <tbody>\n",
       "    <tr>\n",
       "      <th>78</th>\n",
       "      <td>Italy</td>\n",
       "      <td>5.0</td>\n",
       "      <td>Amedei</td>\n",
       "    </tr>\n",
       "    <tr>\n",
       "      <th>86</th>\n",
       "      <td>Italy</td>\n",
       "      <td>5.0</td>\n",
       "      <td>Amedei</td>\n",
       "    </tr>\n",
       "    <tr>\n",
       "      <th>9</th>\n",
       "      <td>France</td>\n",
       "      <td>4.0</td>\n",
       "      <td>A. Morin</td>\n",
       "    </tr>\n",
       "    <tr>\n",
       "      <th>17</th>\n",
       "      <td>France</td>\n",
       "      <td>4.0</td>\n",
       "      <td>A. Morin</td>\n",
       "    </tr>\n",
       "    <tr>\n",
       "      <th>20</th>\n",
       "      <td>France</td>\n",
       "      <td>4.0</td>\n",
       "      <td>A. Morin</td>\n",
       "    </tr>\n",
       "    <tr>\n",
       "      <th>54</th>\n",
       "      <td>U.S.A.</td>\n",
       "      <td>4.0</td>\n",
       "      <td>Amano</td>\n",
       "    </tr>\n",
       "    <tr>\n",
       "      <th>56</th>\n",
       "      <td>U.S.A.</td>\n",
       "      <td>4.0</td>\n",
       "      <td>Amano</td>\n",
       "    </tr>\n",
       "    <tr>\n",
       "      <th>76</th>\n",
       "      <td>Italy</td>\n",
       "      <td>4.0</td>\n",
       "      <td>Amedei</td>\n",
       "    </tr>\n",
       "    <tr>\n",
       "      <th>77</th>\n",
       "      <td>Italy</td>\n",
       "      <td>4.0</td>\n",
       "      <td>Amedei</td>\n",
       "    </tr>\n",
       "    <tr>\n",
       "      <th>83</th>\n",
       "      <td>Italy</td>\n",
       "      <td>4.0</td>\n",
       "      <td>Amedei</td>\n",
       "    </tr>\n",
       "    <tr>\n",
       "      <th>87</th>\n",
       "      <td>Italy</td>\n",
       "      <td>4.0</td>\n",
       "      <td>Amedei</td>\n",
       "    </tr>\n",
       "    <tr>\n",
       "      <th>92</th>\n",
       "      <td>Brazil</td>\n",
       "      <td>4.0</td>\n",
       "      <td>AMMA</td>\n",
       "    </tr>\n",
       "    <tr>\n",
       "      <th>107</th>\n",
       "      <td>U.S.A.</td>\n",
       "      <td>4.0</td>\n",
       "      <td>Arete</td>\n",
       "    </tr>\n",
       "    <tr>\n",
       "      <th>108</th>\n",
       "      <td>U.S.A.</td>\n",
       "      <td>4.0</td>\n",
       "      <td>Arete</td>\n",
       "    </tr>\n",
       "    <tr>\n",
       "      <th>117</th>\n",
       "      <td>U.S.A.</td>\n",
       "      <td>4.0</td>\n",
       "      <td>Arete</td>\n",
       "    </tr>\n",
       "    <tr>\n",
       "      <th>123</th>\n",
       "      <td>U.K.</td>\n",
       "      <td>4.0</td>\n",
       "      <td>Artisan du Chocolat</td>\n",
       "    </tr>\n",
       "    <tr>\n",
       "      <th>152</th>\n",
       "      <td>U.S.A.</td>\n",
       "      <td>4.0</td>\n",
       "      <td>Bar Au Chocolat</td>\n",
       "    </tr>\n",
       "    <tr>\n",
       "      <th>179</th>\n",
       "      <td>Belgium</td>\n",
       "      <td>4.0</td>\n",
       "      <td>Benoit Nihant</td>\n",
       "    </tr>\n",
       "    <tr>\n",
       "      <th>180</th>\n",
       "      <td>Belgium</td>\n",
       "      <td>4.0</td>\n",
       "      <td>Benoit Nihant</td>\n",
       "    </tr>\n",
       "    <tr>\n",
       "      <th>186</th>\n",
       "      <td>Switzerland</td>\n",
       "      <td>4.0</td>\n",
       "      <td>Beschle (Felchlin)</td>\n",
       "    </tr>\n",
       "  </tbody>\n",
       "</table>\n",
       "</div>"
      ],
      "text/plain": [
       "    Company Location  Ratings              Company\n",
       "78             Italy      5.0               Amedei\n",
       "86             Italy      5.0               Amedei\n",
       "9             France      4.0             A. Morin\n",
       "17            France      4.0             A. Morin\n",
       "20            France      4.0             A. Morin\n",
       "54            U.S.A.      4.0                Amano\n",
       "56            U.S.A.      4.0                Amano\n",
       "76             Italy      4.0               Amedei\n",
       "77             Italy      4.0               Amedei\n",
       "83             Italy      4.0               Amedei\n",
       "87             Italy      4.0               Amedei\n",
       "92            Brazil      4.0                 AMMA\n",
       "107           U.S.A.      4.0                Arete\n",
       "108           U.S.A.      4.0                Arete\n",
       "117           U.S.A.      4.0                Arete\n",
       "123             U.K.      4.0  Artisan du Chocolat\n",
       "152           U.S.A.      4.0      Bar Au Chocolat\n",
       "179          Belgium      4.0        Benoit Nihant\n",
       "180          Belgium      4.0        Benoit Nihant\n",
       "186      Switzerland      4.0   Beschle (Felchlin)"
      ]
     },
     "execution_count": 17,
     "metadata": {},
     "output_type": "execute_result"
    }
   ],
   "source": [
    "#country_ratings_df.sort_values(by=['Ratings'], ascending=False)\n",
    "\n",
    "country_ratings_df.nlargest(20, 'Ratings')\n"
   ]
  },
  {
   "cell_type": "markdown",
   "metadata": {},
   "source": [
    "16. That seems people in Italy are the luckiest in reaching best coffee brands."
   ]
  },
  {
   "cell_type": "code",
   "execution_count": 18,
   "metadata": {},
   "outputs": [],
   "source": [
    "bean_origins = []\n",
    "\n",
    "bean_tags = soup.find_all(attrs={'class': 'BroadBeanOrigin'})\n",
    "\n",
    "for bean in bean_tags[1:]:\n",
    "    bean_text = bean.get_text()\n",
    "    bean_origins.append(bean_text)\n",
    "    \n",
    "\n",
    "bean_columns = {'Origin': bean_origins, \"Ratings\": ratings}\n",
    "bean_origins_df = pd.DataFrame.from_dict(bean_columns)\n"
   ]
  },
  {
   "cell_type": "code",
   "execution_count": 19,
   "metadata": {},
   "outputs": [
    {
     "data": {
      "text/html": [
       "<div>\n",
       "<style scoped>\n",
       "    .dataframe tbody tr th:only-of-type {\n",
       "        vertical-align: middle;\n",
       "    }\n",
       "\n",
       "    .dataframe tbody tr th {\n",
       "        vertical-align: top;\n",
       "    }\n",
       "\n",
       "    .dataframe thead th {\n",
       "        text-align: right;\n",
       "    }\n",
       "</style>\n",
       "<table border=\"1\" class=\"dataframe\">\n",
       "  <thead>\n",
       "    <tr style=\"text-align: right;\">\n",
       "      <th></th>\n",
       "      <th>Origin</th>\n",
       "      <th>Ratings</th>\n",
       "    </tr>\n",
       "  </thead>\n",
       "  <tbody>\n",
       "    <tr>\n",
       "      <th>78</th>\n",
       "      <td>Venezuela</td>\n",
       "      <td>5.0</td>\n",
       "    </tr>\n",
       "    <tr>\n",
       "      <th>86</th>\n",
       "      <td></td>\n",
       "      <td>5.0</td>\n",
       "    </tr>\n",
       "    <tr>\n",
       "      <th>9</th>\n",
       "      <td>Peru</td>\n",
       "      <td>4.0</td>\n",
       "    </tr>\n",
       "    <tr>\n",
       "      <th>17</th>\n",
       "      <td>Venezuela</td>\n",
       "      <td>4.0</td>\n",
       "    </tr>\n",
       "    <tr>\n",
       "      <th>20</th>\n",
       "      <td>Peru</td>\n",
       "      <td>4.0</td>\n",
       "    </tr>\n",
       "    <tr>\n",
       "      <th>54</th>\n",
       "      <td>Papua New Guinea</td>\n",
       "      <td>4.0</td>\n",
       "    </tr>\n",
       "    <tr>\n",
       "      <th>56</th>\n",
       "      <td>Ecuador</td>\n",
       "      <td>4.0</td>\n",
       "    </tr>\n",
       "    <tr>\n",
       "      <th>76</th>\n",
       "      <td>Venezuela</td>\n",
       "      <td>4.0</td>\n",
       "    </tr>\n",
       "    <tr>\n",
       "      <th>77</th>\n",
       "      <td></td>\n",
       "      <td>4.0</td>\n",
       "    </tr>\n",
       "    <tr>\n",
       "      <th>83</th>\n",
       "      <td>Madagascar</td>\n",
       "      <td>4.0</td>\n",
       "    </tr>\n",
       "    <tr>\n",
       "      <th>87</th>\n",
       "      <td></td>\n",
       "      <td>4.0</td>\n",
       "    </tr>\n",
       "    <tr>\n",
       "      <th>92</th>\n",
       "      <td>Brazil</td>\n",
       "      <td>4.0</td>\n",
       "    </tr>\n",
       "    <tr>\n",
       "      <th>107</th>\n",
       "      <td>Costa Rica</td>\n",
       "      <td>4.0</td>\n",
       "    </tr>\n",
       "    <tr>\n",
       "      <th>108</th>\n",
       "      <td>Peru</td>\n",
       "      <td>4.0</td>\n",
       "    </tr>\n",
       "    <tr>\n",
       "      <th>117</th>\n",
       "      <td>Nicaragua</td>\n",
       "      <td>4.0</td>\n",
       "    </tr>\n",
       "    <tr>\n",
       "      <th>123</th>\n",
       "      <td>Haiti</td>\n",
       "      <td>4.0</td>\n",
       "    </tr>\n",
       "    <tr>\n",
       "      <th>152</th>\n",
       "      <td>Peru</td>\n",
       "      <td>4.0</td>\n",
       "    </tr>\n",
       "    <tr>\n",
       "      <th>179</th>\n",
       "      <td>Ecuador</td>\n",
       "      <td>4.0</td>\n",
       "    </tr>\n",
       "    <tr>\n",
       "      <th>180</th>\n",
       "      <td>Indonesia</td>\n",
       "      <td>4.0</td>\n",
       "    </tr>\n",
       "    <tr>\n",
       "      <th>186</th>\n",
       "      <td>Ecuador</td>\n",
       "      <td>4.0</td>\n",
       "    </tr>\n",
       "  </tbody>\n",
       "</table>\n",
       "</div>"
      ],
      "text/plain": [
       "               Origin  Ratings\n",
       "78          Venezuela      5.0\n",
       "86                         5.0\n",
       "9                Peru      4.0\n",
       "17          Venezuela      4.0\n",
       "20               Peru      4.0\n",
       "54   Papua New Guinea      4.0\n",
       "56            Ecuador      4.0\n",
       "76          Venezuela      4.0\n",
       "77                         4.0\n",
       "83         Madagascar      4.0\n",
       "87                         4.0\n",
       "92             Brazil      4.0\n",
       "107        Costa Rica      4.0\n",
       "108              Peru      4.0\n",
       "117         Nicaragua      4.0\n",
       "123             Haiti      4.0\n",
       "152              Peru      4.0\n",
       "179           Ecuador      4.0\n",
       "180         Indonesia      4.0\n",
       "186           Ecuador      4.0"
      ]
     },
     "execution_count": 19,
     "metadata": {},
     "output_type": "execute_result"
    }
   ],
   "source": [
    "bean_origins_df.nlargest(20, 'Ratings')"
   ]
  },
  {
   "cell_type": "markdown",
   "metadata": {},
   "source": [
    "Above, we can see the top 20 coffee beans' origins. "
   ]
  }
 ],
 "metadata": {
  "kernelspec": {
   "display_name": "Python 3.10.5 64-bit",
   "language": "python",
   "name": "python3"
  },
  "language_info": {
   "codemirror_mode": {
    "name": "ipython",
    "version": 3
   },
   "file_extension": ".py",
   "mimetype": "text/x-python",
   "name": "python",
   "nbconvert_exporter": "python",
   "pygments_lexer": "ipython3",
   "version": "3.10.5"
  },
  "vscode": {
   "interpreter": {
    "hash": "14b317c4e957ef28741ebbbb1786257a5f4d3e3dcbf27469a9f763009ef38058"
   }
  }
 },
 "nbformat": 4,
 "nbformat_minor": 2
}
